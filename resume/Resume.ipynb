{
  "cells": [
    {
      "cell_type": "raw",
      "metadata": {},
      "source": [
        "---\n",
        "title: Resume\n",
        "description: \"Andrew Allyn's Resume\"\n",
        "date: January 2024\n",
        "published-title: Last updated\n",
        "engine: pdf \n",
        "cv:\n",
        "  pdf: \"/Resources/static/Resume.pdf\"\n",
        "---"
      ],
      "id": "6a1074ff"
    },
    {
      "cell_type": "markdown",
      "metadata": {},
      "source": [
        "```{css, echo=FALSE}\n",
        "#title-block-header .description {\n",
        "    display: none;\n",
        "}\n",
        "```\n",
        "\n",
        "```{css echo=FALSE}\n",
        ".embed-container {\n",
        "    position: relative;\n",
        "    padding-bottom: 129%;\n",
        "    height: 0;\n",
        "    overflow: hidden;\n",
        "    max-width: 100%;\n",
        "}\n",
        "\n",
        ".embed-container iframe,\n",
        ".embed-container object,\n",
        ".embed-container embed {\n",
        "    position: absolute;\n",
        "    top: 0;\n",
        "    left: 0;\n",
        "    width: 100%;\n",
        "    height: 100%;\n",
        "}\n",
        "```\n",
        "\n",
        "```{=html}\n",
        "<div class=\"embed-container\">\n",
        "  <iframe src=\"`r rmarkdown::metadata$cv$pdf`\" style=\"border: 0.5px\"></iframe>\n",
        "</div>\n",
        "```"
      ],
      "id": "ab2c2ae3"
    }
  ],
  "metadata": {
    "kernelspec": {
      "display_name": "Python 3",
      "language": "python",
      "name": "python3"
    }
  },
  "nbformat": 4,
  "nbformat_minor": 5
}