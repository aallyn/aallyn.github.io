{
  "cells": [
    {
      "cell_type": "raw",
      "metadata": {},
      "source": [
        "---\n",
        "title: Resume\n",
        "description: \"\"\n",
        "date: 2024-01-09\n",
        "title-block-banner: \"\"\n",
        "published-title: CV last updated\n",
        "cv:\n",
        "  pdf: \"/Resume.pdf\"\n",
        "---"
      ],
      "id": "49bd1e5b"
    },
    {
      "cell_type": "markdown",
      "metadata": {},
      "source": [
        "```{css echo=FALSE}\n",
        ".embed-container {\n",
        "    position: relative;\n",
        "    padding-bottom: 129%;\n",
        "    height: 0;\n",
        "    overflow: hidden;\n",
        "    max-width: 100%;\n",
        "}\n",
        "\n",
        ".embed-container iframe,\n",
        ".embed-container object,\n",
        ".embed-container embed {\n",
        "    position: absolute;\n",
        "    top: 0;\n",
        "    left: 0;\n",
        "    width: 100%;\n",
        "    height: 100%;\n",
        "}\n",
        "```\n",
        "\n",
        "```{=html}\n",
        "<div class=\"embed-container\">\n",
        "  <iframe src=\"`r rmarkdown::metadata$cv$pdf`\" style=\"border: 0.5px\"></iframe>\n",
        "</div>\n",
        "```"
      ],
      "id": "e2fbb1fb"
    }
  ],
  "metadata": {
    "kernelspec": {
      "display_name": "Python 3",
      "language": "python",
      "name": "python3"
    }
  },
  "nbformat": 4,
  "nbformat_minor": 5
}